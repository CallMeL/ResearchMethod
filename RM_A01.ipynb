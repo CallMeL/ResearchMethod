{
  "cells": [
    {
      "cell_type": "markdown",
      "metadata": {
        "id": "view-in-github",
        "colab_type": "text"
      },
      "source": [
        "<a href=\"https://colab.research.google.com/github/CallMeL/ResearchMethod/blob/master/RM_A01.ipynb\" target=\"_parent\"><img src=\"https://colab.research.google.com/assets/colab-badge.svg\" alt=\"Open In Colab\"/></a>"
      ]
    },
    {
      "cell_type": "markdown",
      "metadata": {
        "id": "5R9sYThxR4UU"
      },
      "source": [
        "# Research Methods <br>UHH - Knowledge Technology Research Group - WiSe 2023/2024\n",
        "## Assignment #1 - Introduction & Basics"
      ]
    },
    {
      "cell_type": "markdown",
      "metadata": {
        "id": "V2HZbtdWR4Ua"
      },
      "source": [
        "***\n",
        "### Name:  \n",
        "\n",
        "***"
      ]
    },
    {
      "cell_type": "markdown",
      "metadata": {
        "id": "QfeZLkKmR4Ub"
      },
      "source": [
        "### Instructions:\n",
        "\n",
        "**This is the only assignment in this course that is done individually.** Please answer the questions below. Copy this notebook and enter your answers underneath each task description, inserting cells as needed. You may use a combination of [python 3](https://www.python.org), [markdown](http://jupyter-notebook.readthedocs.io/en/stable/examples/Notebook/Working%20With%20Markdown%20Cells.html), and [LaTex](https://towardsdatascience.com/write-markdown-latex-in-the-jupyter-notebook-10985edb91fd) to formulate your responses. In order to successfully complete the assignment, you will need the lecture material provided in the [RM moodle course](https://lernen.min.uni-hamburg.de/course/view.php?id=3416).\n",
        "\n",
        "**Make sure to use only a copy of this notebook for your answers instead of a new/blank notebook.**\n",
        "\n",
        "### Grading Criteria:\n",
        "\n",
        "In order to successfully pass this assignment, you will need at least a total of 70 points out of 100, and every task has to be tackled.\n",
        "\n",
        "### Submission:\n",
        "\n",
        "Please upload the following two files **until Monday, October 23, 2023, 20:00 CEST (Germany)** together in a .zip archive in moodle:\n",
        "1. a (single) copy of this jupyter notebook containing your answers for all tasks (file extension: .ipynb)\n",
        "2. an [exported PDF document](https://jupyterlab.readthedocs.io/en/stable/user/export.html) of the jupyter notebook (file extension: .pdf)\n",
        "\n",
        "### File Naming:\n",
        "\n",
        "Add your initials to the file name prior to submission. For example, if your name is Jane Doe, you would use the following filename:\n",
        "1. RM_A01_JD.ipynb\n",
        "2. RM_A01_JD.pdf\n",
        "\n",
        "Do not forget to fill in your name - see top of this Jupyter Notebook.\n",
        "\n",
        "### Presentation:\n",
        "\n",
        "Make sure that you are prepared to answer questions and/or present solutions from your submitted notebook during our assignment revision meeting scheduled for **Wednesday, October 25, 2023, 10:00 - 13:00 CEST (Germany)**.\n",
        "\n",
        "***\n",
        "***"
      ]
    },
    {
      "cell_type": "markdown",
      "metadata": {
        "id": "QEifI9JwR4Uc"
      },
      "source": [
        "#### Task 1 **[20 points]**\n",
        "\n",
        "Download the dataset with climate data provided with this assignment. The data is an extract of a dataset collected by the Climate Research Unit (CRU) and contains per country averages of monthly climate data, such as temperature and precipitation. For more information on the dataset you can go through the [ReadMe](https://crudata.uea.ac.uk/cru/data/hrg/cru_ts_4.05/crucy.2103081329.v4.05/Read_Me_CRU_CY.txt) supplied by the CRU. Create a directory named **data/** where you save CRU_data.csv (So everybody has roughly the same path to the dataset).\n",
        "\n",
        "Import the database using appropriate python packages and make sure it has the data type [pandas.DataFrame](https://pandas.pydata.org/pandas-docs/stable/reference/api/pandas.DataFrame.html)."
      ]
    },
    {
      "cell_type": "code",
      "execution_count": null,
      "metadata": {
        "id": "jPuadUduR4Ud"
      },
      "outputs": [],
      "source": []
    },
    {
      "cell_type": "markdown",
      "metadata": {
        "id": "_6KbUA-fR4Ue"
      },
      "source": [
        "#### Task 2 **[10 points]**\n",
        "\n",
        "To get accustomed to the processing of pandas dataframes, print the first few entries of the database imported in Task 1."
      ]
    },
    {
      "cell_type": "code",
      "execution_count": null,
      "metadata": {
        "id": "vxf9ZOd2R4Ue"
      },
      "outputs": [],
      "source": []
    },
    {
      "cell_type": "markdown",
      "metadata": {
        "id": "NzBTAb8bR4Ue"
      },
      "source": [
        "#### Task 3 **[40 points]**\n",
        "\n",
        "Write some python program that answers the following questions. Please also provide a textual answer and document your code.<br>\n",
        "\n",
        "1. Which country in the dataset had the highest max temperature in July 2020?\n",
        "2. What was the average mean temperature in Germany in Winter (TMP_MEAN_DJF) over all the years in the dataset?\n",
        "\n",
        "_Hint 1: The \"describe\" function in pandas might be very helpful to get a good initial overview of the data!_ <br>\n",
        "_Hint 2: The \"query\" function in pandas might be useful to answer the tasks._"
      ]
    },
    {
      "cell_type": "code",
      "execution_count": null,
      "metadata": {
        "id": "DEZ0nmu5R4Uf"
      },
      "outputs": [],
      "source": []
    },
    {
      "cell_type": "markdown",
      "metadata": {
        "id": "0jbVf9tCR4Uf"
      },
      "source": [
        "#### Task 4 **[30 points]**\n",
        "\n",
        "Write some python program that generates a plot showing the monthly mean temperatures for Germany and a second country of your choice in the year 2020. Make sure to briefly describe/interpret what you can see in the plot.\n",
        "\n",
        "_Hint 1: [Matplotlib](https://matplotlib.org) and [seaborn](https://seaborn.pydata.org) are valuable resources for plotting data from pandas dataframes._<br>\n",
        "_Hint 2: Label your axes, and add a concise title. Make sure every part of the plot is human-readable. There are plenty of tutorials about how to visualize data with python available online!_\n"
      ]
    },
    {
      "cell_type": "code",
      "execution_count": null,
      "metadata": {
        "id": "YibuxUsjR4Uf"
      },
      "outputs": [],
      "source": []
    }
  ],
  "metadata": {
    "kernelspec": {
      "display_name": "Python 3 (ipykernel)",
      "language": "python",
      "name": "python3"
    },
    "language_info": {
      "codemirror_mode": {
        "name": "ipython",
        "version": 3
      },
      "file_extension": ".py",
      "mimetype": "text/x-python",
      "name": "python",
      "nbconvert_exporter": "python",
      "pygments_lexer": "ipython3",
      "version": "3.10.11"
    },
    "vscode": {
      "interpreter": {
        "hash": "916dbcbb3f70747c44a77c7bcd40155683ae19c65e1c03b4aa3499c5328201f1"
      }
    },
    "colab": {
      "provenance": [],
      "include_colab_link": true
    }
  },
  "nbformat": 4,
  "nbformat_minor": 0
}