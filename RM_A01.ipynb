{
  "cells": [
    {
      "cell_type": "markdown",
      "metadata": {
        "id": "view-in-github",
        "colab_type": "text"
      },
      "source": [
        "<a href=\"https://colab.research.google.com/github/CallMeL/ResearchMethod/blob/master/RM_A01.ipynb\" target=\"_parent\"><img src=\"https://colab.research.google.com/assets/colab-badge.svg\" alt=\"Open In Colab\"/></a>"
      ]
    },
    {
      "cell_type": "markdown",
      "metadata": {
        "id": "5R9sYThxR4UU"
      },
      "source": [
        "# Research Methods <br>UHH - Knowledge Technology Research Group - WiSe 2023/2024\n",
        "## Assignment #1 - Introduction & Basics"
      ]
    },
    {
      "cell_type": "markdown",
      "metadata": {
        "id": "V2HZbtdWR4Ua"
      },
      "source": [
        "***\n",
        "### Name:  Yanxi Lin\n",
        "\n",
        "***"
      ]
    },
    {
      "cell_type": "markdown",
      "metadata": {
        "id": "QfeZLkKmR4Ub"
      },
      "source": [
        "### Instructions:\n",
        "\n",
        "**This is the only assignment in this course that is done individually.** Please answer the questions below. Copy this notebook and enter your answers underneath each task description, inserting cells as needed. You may use a combination of [python 3](https://www.python.org), [markdown](http://jupyter-notebook.readthedocs.io/en/stable/examples/Notebook/Working%20With%20Markdown%20Cells.html), and [LaTex](https://towardsdatascience.com/write-markdown-latex-in-the-jupyter-notebook-10985edb91fd) to formulate your responses. In order to successfully complete the assignment, you will need the lecture material provided in the [RM moodle course](https://lernen.min.uni-hamburg.de/course/view.php?id=3416).\n",
        "\n",
        "**Make sure to use only a copy of this notebook for your answers instead of a new/blank notebook.**\n",
        "\n",
        "### Grading Criteria:\n",
        "\n",
        "In order to successfully pass this assignment, you will need at least a total of 70 points out of 100, and every task has to be tackled.\n",
        "\n",
        "### Submission:\n",
        "\n",
        "Please upload the following two files **until Monday, October 23, 2023, 20:00 CEST (Germany)** together in a .zip archive in moodle:\n",
        "1. a (single) copy of this jupyter notebook containing your answers for all tasks (file extension: .ipynb)\n",
        "2. an [exported PDF document](https://jupyterlab.readthedocs.io/en/stable/user/export.html) of the jupyter notebook (file extension: .pdf)\n",
        "\n",
        "### File Naming:\n",
        "\n",
        "Add your initials to the file name prior to submission. For example, if your name is Jane Doe, you would use the following filename:\n",
        "1. RM_A01_JD.ipynb\n",
        "2. RM_A01_JD.pdf\n",
        "\n",
        "Do not forget to fill in your name - see top of this Jupyter Notebook.\n",
        "\n",
        "### Presentation:\n",
        "\n",
        "Make sure that you are prepared to answer questions and/or present solutions from your submitted notebook during our assignment revision meeting scheduled for **Wednesday, October 25, 2023, 10:00 - 13:00 CEST (Germany)**.\n",
        "\n",
        "***\n",
        "***"
      ]
    },
    {
      "cell_type": "markdown",
      "metadata": {
        "id": "QEifI9JwR4Uc"
      },
      "source": [
        "#### Task 1 **[20 points]**\n",
        "\n",
        "Download the dataset with climate data provided with this assignment. The data is an extract of a dataset collected by the Climate Research Unit (CRU) and contains per country averages of monthly climate data, such as temperature and precipitation. For more information on the dataset you can go through the [ReadMe](https://crudata.uea.ac.uk/cru/data/hrg/cru_ts_4.05/crucy.2103081329.v4.05/Read_Me_CRU_CY.txt) supplied by the CRU. Create a directory named **data/** where you save CRU_data.csv (So everybody has roughly the same path to the dataset).\n",
        "\n",
        "Import the database using appropriate python packages and make sure it has the data type [pandas.DataFrame](https://pandas.pydata.org/pandas-docs/stable/reference/api/pandas.DataFrame.html)."
      ]
    },
    {
      "cell_type": "code",
      "source": [
        "!mkdir ./data"
      ],
      "metadata": {
        "id": "zMWDjc4j6uPw"
      },
      "execution_count": 2,
      "outputs": []
    },
    {
      "cell_type": "code",
      "source": [
        "# import packages\n",
        "import pandas as pd\n",
        "# read file\n",
        "path = './data/CRU_data.csv'\n",
        "table = pd.read_csv(path)"
      ],
      "metadata": {
        "id": "GoAd76am7MiZ"
      },
      "execution_count": 23,
      "outputs": []
    },
    {
      "cell_type": "markdown",
      "metadata": {
        "id": "_6KbUA-fR4Ue"
      },
      "source": [
        "#### Task 2 **[10 points]**\n",
        "\n",
        "To get accustomed to the processing of pandas dataframes, print the first few entries of the database imported in Task 1."
      ]
    },
    {
      "cell_type": "code",
      "execution_count": 24,
      "metadata": {
        "id": "vxf9ZOd2R4Ue",
        "colab": {
          "base_uri": "https://localhost:8080/",
          "height": 256
        },
        "outputId": "a90a5630-1d57-48bf-86bf-517b302d6758"
      },
      "outputs": [
        {
          "output_type": "execute_result",
          "data": {
            "text/plain": [
              "   COUNTRY  YEAR  TMP_MEAN_JAN  TMP_MEAN_FEB  TMP_MEAN_MAR  TMP_MEAN_APR  \\\n",
              "0  GERMANY  1901          -3.5          -3.7           2.5           8.2   \n",
              "1  GERMANY  1902           2.4          -1.1           3.7           7.9   \n",
              "2  GERMANY  1903           0.1           3.6           6.1           5.0   \n",
              "3  GERMANY  1904          -1.2           1.0           3.3           9.0   \n",
              "4  GERMANY  1905          -1.9           1.3           4.8           6.1   \n",
              "\n",
              "   TMP_MEAN_MAY  TMP_MEAN_JUN  TMP_MEAN_JUL  TMP_MEAN_AUG  ...  PRECIP_JUL  \\\n",
              "0          12.8          15.7          18.6          16.9  ...        70.8   \n",
              "1           8.8          15.3          16.0          15.1  ...        73.6   \n",
              "2          12.8          14.9          16.5          15.8  ...        93.3   \n",
              "3          12.3          15.4          18.8          17.1  ...        32.0   \n",
              "4          12.1          17.1          18.6          16.8  ...        72.1   \n",
              "\n",
              "   PRECIP_AUG  PRECIP_SEP  PRECIP_OCT  PRECIP_NOV  PRECIP_DEC  PRECIP_MAM  \\\n",
              "0        68.7        55.8        53.2        53.1        59.1       155.3   \n",
              "1        92.2        48.3        49.9        11.0        62.5       165.7   \n",
              "2        98.0        56.2        80.8        63.3        21.2       143.8   \n",
              "3        52.3        58.2        50.6        57.9        45.2       150.2   \n",
              "4        97.0        67.9        83.0        52.7        30.6       149.1   \n",
              "\n",
              "   PRECIP_JJA  PRECIP_SON  PRECIP_DJF  \n",
              "0       212.8       162.0       131.1  \n",
              "1       226.0       109.3       137.3  \n",
              "2       244.8       200.3       118.7  \n",
              "3       138.8       166.7       117.3  \n",
              "4       237.4       203.6       137.0  \n",
              "\n",
              "[5 rows x 82 columns]"
            ],
            "text/html": [
              "\n",
              "  <div id=\"df-539bd9e4-7918-4910-91e1-c72f5f101e2f\" class=\"colab-df-container\">\n",
              "    <div>\n",
              "<style scoped>\n",
              "    .dataframe tbody tr th:only-of-type {\n",
              "        vertical-align: middle;\n",
              "    }\n",
              "\n",
              "    .dataframe tbody tr th {\n",
              "        vertical-align: top;\n",
              "    }\n",
              "\n",
              "    .dataframe thead th {\n",
              "        text-align: right;\n",
              "    }\n",
              "</style>\n",
              "<table border=\"1\" class=\"dataframe\">\n",
              "  <thead>\n",
              "    <tr style=\"text-align: right;\">\n",
              "      <th></th>\n",
              "      <th>COUNTRY</th>\n",
              "      <th>YEAR</th>\n",
              "      <th>TMP_MEAN_JAN</th>\n",
              "      <th>TMP_MEAN_FEB</th>\n",
              "      <th>TMP_MEAN_MAR</th>\n",
              "      <th>TMP_MEAN_APR</th>\n",
              "      <th>TMP_MEAN_MAY</th>\n",
              "      <th>TMP_MEAN_JUN</th>\n",
              "      <th>TMP_MEAN_JUL</th>\n",
              "      <th>TMP_MEAN_AUG</th>\n",
              "      <th>...</th>\n",
              "      <th>PRECIP_JUL</th>\n",
              "      <th>PRECIP_AUG</th>\n",
              "      <th>PRECIP_SEP</th>\n",
              "      <th>PRECIP_OCT</th>\n",
              "      <th>PRECIP_NOV</th>\n",
              "      <th>PRECIP_DEC</th>\n",
              "      <th>PRECIP_MAM</th>\n",
              "      <th>PRECIP_JJA</th>\n",
              "      <th>PRECIP_SON</th>\n",
              "      <th>PRECIP_DJF</th>\n",
              "    </tr>\n",
              "  </thead>\n",
              "  <tbody>\n",
              "    <tr>\n",
              "      <th>0</th>\n",
              "      <td>GERMANY</td>\n",
              "      <td>1901</td>\n",
              "      <td>-3.5</td>\n",
              "      <td>-3.7</td>\n",
              "      <td>2.5</td>\n",
              "      <td>8.2</td>\n",
              "      <td>12.8</td>\n",
              "      <td>15.7</td>\n",
              "      <td>18.6</td>\n",
              "      <td>16.9</td>\n",
              "      <td>...</td>\n",
              "      <td>70.8</td>\n",
              "      <td>68.7</td>\n",
              "      <td>55.8</td>\n",
              "      <td>53.2</td>\n",
              "      <td>53.1</td>\n",
              "      <td>59.1</td>\n",
              "      <td>155.3</td>\n",
              "      <td>212.8</td>\n",
              "      <td>162.0</td>\n",
              "      <td>131.1</td>\n",
              "    </tr>\n",
              "    <tr>\n",
              "      <th>1</th>\n",
              "      <td>GERMANY</td>\n",
              "      <td>1902</td>\n",
              "      <td>2.4</td>\n",
              "      <td>-1.1</td>\n",
              "      <td>3.7</td>\n",
              "      <td>7.9</td>\n",
              "      <td>8.8</td>\n",
              "      <td>15.3</td>\n",
              "      <td>16.0</td>\n",
              "      <td>15.1</td>\n",
              "      <td>...</td>\n",
              "      <td>73.6</td>\n",
              "      <td>92.2</td>\n",
              "      <td>48.3</td>\n",
              "      <td>49.9</td>\n",
              "      <td>11.0</td>\n",
              "      <td>62.5</td>\n",
              "      <td>165.7</td>\n",
              "      <td>226.0</td>\n",
              "      <td>109.3</td>\n",
              "      <td>137.3</td>\n",
              "    </tr>\n",
              "    <tr>\n",
              "      <th>2</th>\n",
              "      <td>GERMANY</td>\n",
              "      <td>1903</td>\n",
              "      <td>0.1</td>\n",
              "      <td>3.6</td>\n",
              "      <td>6.1</td>\n",
              "      <td>5.0</td>\n",
              "      <td>12.8</td>\n",
              "      <td>14.9</td>\n",
              "      <td>16.5</td>\n",
              "      <td>15.8</td>\n",
              "      <td>...</td>\n",
              "      <td>93.3</td>\n",
              "      <td>98.0</td>\n",
              "      <td>56.2</td>\n",
              "      <td>80.8</td>\n",
              "      <td>63.3</td>\n",
              "      <td>21.2</td>\n",
              "      <td>143.8</td>\n",
              "      <td>244.8</td>\n",
              "      <td>200.3</td>\n",
              "      <td>118.7</td>\n",
              "    </tr>\n",
              "    <tr>\n",
              "      <th>3</th>\n",
              "      <td>GERMANY</td>\n",
              "      <td>1904</td>\n",
              "      <td>-1.2</td>\n",
              "      <td>1.0</td>\n",
              "      <td>3.3</td>\n",
              "      <td>9.0</td>\n",
              "      <td>12.3</td>\n",
              "      <td>15.4</td>\n",
              "      <td>18.8</td>\n",
              "      <td>17.1</td>\n",
              "      <td>...</td>\n",
              "      <td>32.0</td>\n",
              "      <td>52.3</td>\n",
              "      <td>58.2</td>\n",
              "      <td>50.6</td>\n",
              "      <td>57.9</td>\n",
              "      <td>45.2</td>\n",
              "      <td>150.2</td>\n",
              "      <td>138.8</td>\n",
              "      <td>166.7</td>\n",
              "      <td>117.3</td>\n",
              "    </tr>\n",
              "    <tr>\n",
              "      <th>4</th>\n",
              "      <td>GERMANY</td>\n",
              "      <td>1905</td>\n",
              "      <td>-1.9</td>\n",
              "      <td>1.3</td>\n",
              "      <td>4.8</td>\n",
              "      <td>6.1</td>\n",
              "      <td>12.1</td>\n",
              "      <td>17.1</td>\n",
              "      <td>18.6</td>\n",
              "      <td>16.8</td>\n",
              "      <td>...</td>\n",
              "      <td>72.1</td>\n",
              "      <td>97.0</td>\n",
              "      <td>67.9</td>\n",
              "      <td>83.0</td>\n",
              "      <td>52.7</td>\n",
              "      <td>30.6</td>\n",
              "      <td>149.1</td>\n",
              "      <td>237.4</td>\n",
              "      <td>203.6</td>\n",
              "      <td>137.0</td>\n",
              "    </tr>\n",
              "  </tbody>\n",
              "</table>\n",
              "<p>5 rows × 82 columns</p>\n",
              "</div>\n",
              "    <div class=\"colab-df-buttons\">\n",
              "\n",
              "  <div class=\"colab-df-container\">\n",
              "    <button class=\"colab-df-convert\" onclick=\"convertToInteractive('df-539bd9e4-7918-4910-91e1-c72f5f101e2f')\"\n",
              "            title=\"Convert this dataframe to an interactive table.\"\n",
              "            style=\"display:none;\">\n",
              "\n",
              "  <svg xmlns=\"http://www.w3.org/2000/svg\" height=\"24px\" viewBox=\"0 -960 960 960\">\n",
              "    <path d=\"M120-120v-720h720v720H120Zm60-500h600v-160H180v160Zm220 220h160v-160H400v160Zm0 220h160v-160H400v160ZM180-400h160v-160H180v160Zm440 0h160v-160H620v160ZM180-180h160v-160H180v160Zm440 0h160v-160H620v160Z\"/>\n",
              "  </svg>\n",
              "    </button>\n",
              "\n",
              "  <style>\n",
              "    .colab-df-container {\n",
              "      display:flex;\n",
              "      gap: 12px;\n",
              "    }\n",
              "\n",
              "    .colab-df-convert {\n",
              "      background-color: #E8F0FE;\n",
              "      border: none;\n",
              "      border-radius: 50%;\n",
              "      cursor: pointer;\n",
              "      display: none;\n",
              "      fill: #1967D2;\n",
              "      height: 32px;\n",
              "      padding: 0 0 0 0;\n",
              "      width: 32px;\n",
              "    }\n",
              "\n",
              "    .colab-df-convert:hover {\n",
              "      background-color: #E2EBFA;\n",
              "      box-shadow: 0px 1px 2px rgba(60, 64, 67, 0.3), 0px 1px 3px 1px rgba(60, 64, 67, 0.15);\n",
              "      fill: #174EA6;\n",
              "    }\n",
              "\n",
              "    .colab-df-buttons div {\n",
              "      margin-bottom: 4px;\n",
              "    }\n",
              "\n",
              "    [theme=dark] .colab-df-convert {\n",
              "      background-color: #3B4455;\n",
              "      fill: #D2E3FC;\n",
              "    }\n",
              "\n",
              "    [theme=dark] .colab-df-convert:hover {\n",
              "      background-color: #434B5C;\n",
              "      box-shadow: 0px 1px 3px 1px rgba(0, 0, 0, 0.15);\n",
              "      filter: drop-shadow(0px 1px 2px rgba(0, 0, 0, 0.3));\n",
              "      fill: #FFFFFF;\n",
              "    }\n",
              "  </style>\n",
              "\n",
              "    <script>\n",
              "      const buttonEl =\n",
              "        document.querySelector('#df-539bd9e4-7918-4910-91e1-c72f5f101e2f button.colab-df-convert');\n",
              "      buttonEl.style.display =\n",
              "        google.colab.kernel.accessAllowed ? 'block' : 'none';\n",
              "\n",
              "      async function convertToInteractive(key) {\n",
              "        const element = document.querySelector('#df-539bd9e4-7918-4910-91e1-c72f5f101e2f');\n",
              "        const dataTable =\n",
              "          await google.colab.kernel.invokeFunction('convertToInteractive',\n",
              "                                                    [key], {});\n",
              "        if (!dataTable) return;\n",
              "\n",
              "        const docLinkHtml = 'Like what you see? Visit the ' +\n",
              "          '<a target=\"_blank\" href=https://colab.research.google.com/notebooks/data_table.ipynb>data table notebook</a>'\n",
              "          + ' to learn more about interactive tables.';\n",
              "        element.innerHTML = '';\n",
              "        dataTable['output_type'] = 'display_data';\n",
              "        await google.colab.output.renderOutput(dataTable, element);\n",
              "        const docLink = document.createElement('div');\n",
              "        docLink.innerHTML = docLinkHtml;\n",
              "        element.appendChild(docLink);\n",
              "      }\n",
              "    </script>\n",
              "  </div>\n",
              "\n",
              "\n",
              "<div id=\"df-53553ce8-939d-4cad-9536-c20af8c5c6d9\">\n",
              "  <button class=\"colab-df-quickchart\" onclick=\"quickchart('df-53553ce8-939d-4cad-9536-c20af8c5c6d9')\"\n",
              "            title=\"Suggest charts.\"\n",
              "            style=\"display:none;\">\n",
              "\n",
              "<svg xmlns=\"http://www.w3.org/2000/svg\" height=\"24px\"viewBox=\"0 0 24 24\"\n",
              "     width=\"24px\">\n",
              "    <g>\n",
              "        <path d=\"M19 3H5c-1.1 0-2 .9-2 2v14c0 1.1.9 2 2 2h14c1.1 0 2-.9 2-2V5c0-1.1-.9-2-2-2zM9 17H7v-7h2v7zm4 0h-2V7h2v10zm4 0h-2v-4h2v4z\"/>\n",
              "    </g>\n",
              "</svg>\n",
              "  </button>\n",
              "\n",
              "<style>\n",
              "  .colab-df-quickchart {\n",
              "      --bg-color: #E8F0FE;\n",
              "      --fill-color: #1967D2;\n",
              "      --hover-bg-color: #E2EBFA;\n",
              "      --hover-fill-color: #174EA6;\n",
              "      --disabled-fill-color: #AAA;\n",
              "      --disabled-bg-color: #DDD;\n",
              "  }\n",
              "\n",
              "  [theme=dark] .colab-df-quickchart {\n",
              "      --bg-color: #3B4455;\n",
              "      --fill-color: #D2E3FC;\n",
              "      --hover-bg-color: #434B5C;\n",
              "      --hover-fill-color: #FFFFFF;\n",
              "      --disabled-bg-color: #3B4455;\n",
              "      --disabled-fill-color: #666;\n",
              "  }\n",
              "\n",
              "  .colab-df-quickchart {\n",
              "    background-color: var(--bg-color);\n",
              "    border: none;\n",
              "    border-radius: 50%;\n",
              "    cursor: pointer;\n",
              "    display: none;\n",
              "    fill: var(--fill-color);\n",
              "    height: 32px;\n",
              "    padding: 0;\n",
              "    width: 32px;\n",
              "  }\n",
              "\n",
              "  .colab-df-quickchart:hover {\n",
              "    background-color: var(--hover-bg-color);\n",
              "    box-shadow: 0 1px 2px rgba(60, 64, 67, 0.3), 0 1px 3px 1px rgba(60, 64, 67, 0.15);\n",
              "    fill: var(--button-hover-fill-color);\n",
              "  }\n",
              "\n",
              "  .colab-df-quickchart-complete:disabled,\n",
              "  .colab-df-quickchart-complete:disabled:hover {\n",
              "    background-color: var(--disabled-bg-color);\n",
              "    fill: var(--disabled-fill-color);\n",
              "    box-shadow: none;\n",
              "  }\n",
              "\n",
              "  .colab-df-spinner {\n",
              "    border: 2px solid var(--fill-color);\n",
              "    border-color: transparent;\n",
              "    border-bottom-color: var(--fill-color);\n",
              "    animation:\n",
              "      spin 1s steps(1) infinite;\n",
              "  }\n",
              "\n",
              "  @keyframes spin {\n",
              "    0% {\n",
              "      border-color: transparent;\n",
              "      border-bottom-color: var(--fill-color);\n",
              "      border-left-color: var(--fill-color);\n",
              "    }\n",
              "    20% {\n",
              "      border-color: transparent;\n",
              "      border-left-color: var(--fill-color);\n",
              "      border-top-color: var(--fill-color);\n",
              "    }\n",
              "    30% {\n",
              "      border-color: transparent;\n",
              "      border-left-color: var(--fill-color);\n",
              "      border-top-color: var(--fill-color);\n",
              "      border-right-color: var(--fill-color);\n",
              "    }\n",
              "    40% {\n",
              "      border-color: transparent;\n",
              "      border-right-color: var(--fill-color);\n",
              "      border-top-color: var(--fill-color);\n",
              "    }\n",
              "    60% {\n",
              "      border-color: transparent;\n",
              "      border-right-color: var(--fill-color);\n",
              "    }\n",
              "    80% {\n",
              "      border-color: transparent;\n",
              "      border-right-color: var(--fill-color);\n",
              "      border-bottom-color: var(--fill-color);\n",
              "    }\n",
              "    90% {\n",
              "      border-color: transparent;\n",
              "      border-bottom-color: var(--fill-color);\n",
              "    }\n",
              "  }\n",
              "</style>\n",
              "\n",
              "  <script>\n",
              "    async function quickchart(key) {\n",
              "      const quickchartButtonEl =\n",
              "        document.querySelector('#' + key + ' button');\n",
              "      quickchartButtonEl.disabled = true;  // To prevent multiple clicks.\n",
              "      quickchartButtonEl.classList.add('colab-df-spinner');\n",
              "      try {\n",
              "        const charts = await google.colab.kernel.invokeFunction(\n",
              "            'suggestCharts', [key], {});\n",
              "      } catch (error) {\n",
              "        console.error('Error during call to suggestCharts:', error);\n",
              "      }\n",
              "      quickchartButtonEl.classList.remove('colab-df-spinner');\n",
              "      quickchartButtonEl.classList.add('colab-df-quickchart-complete');\n",
              "    }\n",
              "    (() => {\n",
              "      let quickchartButtonEl =\n",
              "        document.querySelector('#df-53553ce8-939d-4cad-9536-c20af8c5c6d9 button');\n",
              "      quickchartButtonEl.style.display =\n",
              "        google.colab.kernel.accessAllowed ? 'block' : 'none';\n",
              "    })();\n",
              "  </script>\n",
              "</div>\n",
              "    </div>\n",
              "  </div>\n"
            ]
          },
          "metadata": {},
          "execution_count": 24
        }
      ],
      "source": [
        "# print the first few entries\n",
        "table.head()"
      ]
    },
    {
      "cell_type": "code",
      "source": [
        "table.columns"
      ],
      "metadata": {
        "id": "nB2epQLJ-3wp",
        "outputId": "dfe95552-1535-4cbd-bdb3-ce60d521efb8",
        "colab": {
          "base_uri": "https://localhost:8080/"
        }
      },
      "execution_count": 11,
      "outputs": [
        {
          "output_type": "execute_result",
          "data": {
            "text/plain": [
              "Index(['COUNTRY', 'YEAR', 'TMP_MEAN_JAN', 'TMP_MEAN_FEB', 'TMP_MEAN_MAR',\n",
              "       'TMP_MEAN_APR', 'TMP_MEAN_MAY', 'TMP_MEAN_JUN', 'TMP_MEAN_JUL',\n",
              "       'TMP_MEAN_AUG', 'TMP_MEAN_SEP', 'TMP_MEAN_OCT', 'TMP_MEAN_NOV',\n",
              "       'TMP_MEAN_DEC', 'TMP_MEAN_MAM', 'TMP_MEAN_JJA', 'TMP_MEAN_SON',\n",
              "       'TMP_MEAN_DJF', 'TMP_MIN_JAN', 'TMP_MIN_FEB', 'TMP_MIN_MAR',\n",
              "       'TMP_MIN_APR', 'TMP_MIN_MAY', 'TMP_MIN_JUN', 'TMP_MIN_JUL',\n",
              "       'TMP_MIN_AUG', 'TMP_MIN_SEP', 'TMP_MIN_OCT', 'TMP_MIN_NOV',\n",
              "       'TMP_MIN_DEC', 'TMP_MIN_MAM', 'TMP_MIN_JJA', 'TMP_MIN_SON',\n",
              "       'TMP_MIN_DJF', 'TMP_MAX_JAN', 'TMP_MAX_FEB', 'TMP_MAX_MAR',\n",
              "       'TMP_MAX_APR', 'TMP_MAX_MAY', 'TMP_MAX_JUN', 'TMP_MAX_JUL',\n",
              "       'TMP_MAX_AUG', 'TMP_MAX_SEP', 'TMP_MAX_OCT', 'TMP_MAX_NOV',\n",
              "       'TMP_MAX_DEC', 'TMP_MAX_MAM', 'TMP_MAX_JJA', 'TMP_MAX_SON',\n",
              "       'TMP_MAX_DJF', 'WET_DAYS_JAN', 'WET_DAYS_FEB', 'WET_DAYS_MAR',\n",
              "       'WET_DAYS_APR', 'WET_DAYS_MAY', 'WET_DAYS_JUN', 'WET_DAYS_JUL',\n",
              "       'WET_DAYS_AUG', 'WET_DAYS_SEP', 'WET_DAYS_OCT', 'WET_DAYS_NOV',\n",
              "       'WET_DAYS_DEC', 'WET_DAYS_MAM', 'WET_DAYS_JJA', 'WET_DAYS_SON',\n",
              "       'WET_DAYS_DJF', 'PRECIP_JAN', 'PRECIP_FEB', 'PRECIP_MAR', 'PRECIP_APR',\n",
              "       'PRECIP_MAY', 'PRECIP_JUN', 'PRECIP_JUL', 'PRECIP_AUG', 'PRECIP_SEP',\n",
              "       'PRECIP_OCT', 'PRECIP_NOV', 'PRECIP_DEC', 'PRECIP_MAM', 'PRECIP_JJA',\n",
              "       'PRECIP_SON', 'PRECIP_DJF'],\n",
              "      dtype='object')"
            ]
          },
          "metadata": {},
          "execution_count": 11
        }
      ]
    },
    {
      "cell_type": "markdown",
      "metadata": {
        "id": "NzBTAb8bR4Ue"
      },
      "source": [
        "#### Task 3 **[40 points]**\n",
        "\n",
        "Write some python program that answers the following questions. Please also provide a textual answer and document your code.<br>\n",
        "\n",
        "1. Which country in the dataset had the highest max temperature in July 2020?\n",
        "2. What was the average mean temperature in Germany in Winter (TMP_MEAN_DJF) over all the years in the dataset?\n",
        "\n",
        "_Hint 1: The \"describe\" function in pandas might be very helpful to get a good initial overview of the data!_ <br>\n",
        "_Hint 2: The \"query\" function in pandas might be useful to answer the tasks._"
      ]
    },
    {
      "cell_type": "markdown",
      "source": [
        "##### for question 1\n",
        "Texttual answer: to find the country had the highest max temperature in July 2020, we need the following steps:\n",
        "1. create a new table with only columns of (COUNTRY,YEAR,TMP_MAX_JUL)\n",
        "2. filter the YEAR\n",
        "column with the value of 2020\n",
        "3. sort the table by TMP_MAX_JUL in ascending order and print the last row's COUNTRY value\n",
        "\n",
        "As the ouput result shown below, the answer for question 1 is ***IRAN***.\n"
      ],
      "metadata": {
        "id": "2YdRiOKo8prQ"
      }
    },
    {
      "cell_type": "code",
      "source": [
        "# 1. create a new table with only columns of (COUNTRY,YEAR,TMP_MAX_JUL)\n",
        "table_1 = table[['COUNTRY', 'YEAR','TMP_MAX_JUL']]\n",
        "# 2. filter the YEAR column with the value of 2020\n",
        "table_1 = table_1[table_1['YEAR']==2020]\n",
        "# 3. sort the table by TMP_MAX_JUL in ascending order and print the last row's COUNTRY value\n",
        "sorted_table = table_1.sort_values(by='TMP_MAX_JUL')\n",
        "sorted_table.iloc[-1]['COUNTRY']"
      ],
      "metadata": {
        "id": "L0hbDzuE_cof",
        "outputId": "b1ad1eff-a55f-4e3e-c227-ee974ef0c441",
        "colab": {
          "base_uri": "https://localhost:8080/",
          "height": 35
        }
      },
      "execution_count": 22,
      "outputs": [
        {
          "output_type": "execute_result",
          "data": {
            "text/plain": [
              "'IRAN'"
            ],
            "application/vnd.google.colaboratory.intrinsic+json": {
              "type": "string"
            }
          },
          "metadata": {},
          "execution_count": 22
        }
      ]
    },
    {
      "cell_type": "markdown",
      "source": [
        "##### for question 2\n",
        "Texttual answer: to find the average mean temperature in Germany in Winter (TMP_MEAN_DJF) over all the years in the dataset, we need the following steps:\n",
        "\n",
        "1. create a new table with only columns of (COUNTRY,TMP_MEAN_DJF)\n",
        "2. filter the COUNTRY column with the value of Germany\n",
        "3. get the average value\n",
        "\n",
        "As the ouput result shown below, the answer for question 2 is ***-7.805833333333333***."
      ],
      "metadata": {
        "id": "Fm7igtOa8sMg"
      }
    },
    {
      "cell_type": "code",
      "source": [
        "#1. create a new table with only columns of (COUNTRY,TMP_MEAN_DJF)\n",
        "table_2 = table[['COUNTRY', 'TMP_MEAN_DJF']]\n",
        "#2. filter the COUNTRY column with the value of Germany\n",
        "table_2 = table_2[table_2['COUNTRY']=='GERMANY']\n",
        "#3. get the average value\n",
        "avg = table_2['TMP_MEAN_DJF'].mean()\n",
        "avg"
      ],
      "metadata": {
        "id": "cjq8u4Z-CTji",
        "outputId": "1cfdb9a3-288b-4ee3-d889-e36314efcd3f",
        "colab": {
          "base_uri": "https://localhost:8080/"
        }
      },
      "execution_count": 21,
      "outputs": [
        {
          "output_type": "execute_result",
          "data": {
            "text/plain": [
              "-7.805833333333333"
            ]
          },
          "metadata": {},
          "execution_count": 21
        }
      ]
    },
    {
      "cell_type": "markdown",
      "metadata": {
        "id": "0jbVf9tCR4Uf"
      },
      "source": [
        "#### Task 4 **[30 points]**\n",
        "\n",
        "Write some python program that generates a plot showing the monthly mean temperatures for Germany and a second country of your choice in the year 2020. Make sure to briefly describe/interpret what you can see in the plot.\n",
        "\n",
        "_Hint 1: [Matplotlib](https://matplotlib.org) and [seaborn](https://seaborn.pydata.org) are valuable resources for plotting data from pandas dataframes._<br>\n",
        "_Hint 2: Label your axes, and add a concise title. Make sure every part of the plot is human-readable. There are plenty of tutorials about how to visualize data with python available online!_\n"
      ]
    },
    {
      "cell_type": "markdown",
      "source": [
        "##### step1: prepare the data"
      ],
      "metadata": {
        "id": "Csl2hrOFIaxS"
      }
    },
    {
      "cell_type": "code",
      "source": [
        "# get a country list\n",
        "countries = table['COUNTRY'].unique()\n",
        "countries"
      ],
      "metadata": {
        "id": "sC9dTuZ8Fjex",
        "outputId": "96fbd320-acab-4366-e838-82b50449f1b5",
        "colab": {
          "base_uri": "https://localhost:8080/"
        }
      },
      "execution_count": 32,
      "outputs": [
        {
          "output_type": "execute_result",
          "data": {
            "text/plain": [
              "array(['GERMANY', 'INDIA', 'TURKEY', 'PAKISTAN', 'IRAN', 'ALBANIA',\n",
              "       'EGYPT', 'BELARUS', 'ROMANIA', 'CHINA', 'NEPAL', 'MEXICO'],\n",
              "      dtype=object)"
            ]
          },
          "metadata": {},
          "execution_count": 32
        }
      ]
    },
    {
      "cell_type": "code",
      "source": [
        "# get the table with only month temperature information\n",
        "table_month = table[['COUNTRY', 'YEAR', 'TMP_MEAN_JAN', 'TMP_MEAN_FEB', 'TMP_MEAN_MAR',\n",
        "       'TMP_MEAN_APR', 'TMP_MEAN_MAY', 'TMP_MEAN_JUN', 'TMP_MEAN_JUL',\n",
        "       'TMP_MEAN_AUG', 'TMP_MEAN_SEP', 'TMP_MEAN_OCT', 'TMP_MEAN_NOV',\n",
        "       'TMP_MEAN_DEC']]\n",
        "# creat two tables by filtering on COUNTRY and YEAR\n",
        "table_germany = table_month[(table_month['COUNTRY']=='GERMANY') & (table_month['YEAR']==2020)]\n",
        "table_china = table_month[(table_month['COUNTRY']=='CHINA') & (table_month['YEAR']==2020)]"
      ],
      "metadata": {
        "id": "q79FQXtOEV38"
      },
      "execution_count": 62,
      "outputs": []
    },
    {
      "cell_type": "code",
      "source": [
        "table_germany"
      ],
      "metadata": {
        "id": "PApDAP4eHLbX",
        "outputId": "b2027fb3-bbbc-4045-e0bd-8a02998582e9",
        "colab": {
          "base_uri": "https://localhost:8080/",
          "height": 101
        }
      },
      "execution_count": 64,
      "outputs": [
        {
          "output_type": "execute_result",
          "data": {
            "text/plain": [
              "     COUNTRY  YEAR  TMP_MEAN_JAN  TMP_MEAN_FEB  TMP_MEAN_MAR  TMP_MEAN_APR  \\\n",
              "119  GERMANY  2020           3.8           5.3           5.6          10.8   \n",
              "\n",
              "     TMP_MEAN_MAY  TMP_MEAN_JUN  TMP_MEAN_JUL  TMP_MEAN_AUG  TMP_MEAN_SEP  \\\n",
              "119          12.2          17.3          18.0          20.5          15.6   \n",
              "\n",
              "     TMP_MEAN_OCT  TMP_MEAN_NOV  TMP_MEAN_DEC  \n",
              "119          10.5           6.9           3.2  "
            ],
            "text/html": [
              "\n",
              "  <div id=\"df-11b27573-2227-4a58-bf56-b62f5d3bae42\" class=\"colab-df-container\">\n",
              "    <div>\n",
              "<style scoped>\n",
              "    .dataframe tbody tr th:only-of-type {\n",
              "        vertical-align: middle;\n",
              "    }\n",
              "\n",
              "    .dataframe tbody tr th {\n",
              "        vertical-align: top;\n",
              "    }\n",
              "\n",
              "    .dataframe thead th {\n",
              "        text-align: right;\n",
              "    }\n",
              "</style>\n",
              "<table border=\"1\" class=\"dataframe\">\n",
              "  <thead>\n",
              "    <tr style=\"text-align: right;\">\n",
              "      <th></th>\n",
              "      <th>COUNTRY</th>\n",
              "      <th>YEAR</th>\n",
              "      <th>TMP_MEAN_JAN</th>\n",
              "      <th>TMP_MEAN_FEB</th>\n",
              "      <th>TMP_MEAN_MAR</th>\n",
              "      <th>TMP_MEAN_APR</th>\n",
              "      <th>TMP_MEAN_MAY</th>\n",
              "      <th>TMP_MEAN_JUN</th>\n",
              "      <th>TMP_MEAN_JUL</th>\n",
              "      <th>TMP_MEAN_AUG</th>\n",
              "      <th>TMP_MEAN_SEP</th>\n",
              "      <th>TMP_MEAN_OCT</th>\n",
              "      <th>TMP_MEAN_NOV</th>\n",
              "      <th>TMP_MEAN_DEC</th>\n",
              "    </tr>\n",
              "  </thead>\n",
              "  <tbody>\n",
              "    <tr>\n",
              "      <th>119</th>\n",
              "      <td>GERMANY</td>\n",
              "      <td>2020</td>\n",
              "      <td>3.8</td>\n",
              "      <td>5.3</td>\n",
              "      <td>5.6</td>\n",
              "      <td>10.8</td>\n",
              "      <td>12.2</td>\n",
              "      <td>17.3</td>\n",
              "      <td>18.0</td>\n",
              "      <td>20.5</td>\n",
              "      <td>15.6</td>\n",
              "      <td>10.5</td>\n",
              "      <td>6.9</td>\n",
              "      <td>3.2</td>\n",
              "    </tr>\n",
              "  </tbody>\n",
              "</table>\n",
              "</div>\n",
              "    <div class=\"colab-df-buttons\">\n",
              "\n",
              "  <div class=\"colab-df-container\">\n",
              "    <button class=\"colab-df-convert\" onclick=\"convertToInteractive('df-11b27573-2227-4a58-bf56-b62f5d3bae42')\"\n",
              "            title=\"Convert this dataframe to an interactive table.\"\n",
              "            style=\"display:none;\">\n",
              "\n",
              "  <svg xmlns=\"http://www.w3.org/2000/svg\" height=\"24px\" viewBox=\"0 -960 960 960\">\n",
              "    <path d=\"M120-120v-720h720v720H120Zm60-500h600v-160H180v160Zm220 220h160v-160H400v160Zm0 220h160v-160H400v160ZM180-400h160v-160H180v160Zm440 0h160v-160H620v160ZM180-180h160v-160H180v160Zm440 0h160v-160H620v160Z\"/>\n",
              "  </svg>\n",
              "    </button>\n",
              "\n",
              "  <style>\n",
              "    .colab-df-container {\n",
              "      display:flex;\n",
              "      gap: 12px;\n",
              "    }\n",
              "\n",
              "    .colab-df-convert {\n",
              "      background-color: #E8F0FE;\n",
              "      border: none;\n",
              "      border-radius: 50%;\n",
              "      cursor: pointer;\n",
              "      display: none;\n",
              "      fill: #1967D2;\n",
              "      height: 32px;\n",
              "      padding: 0 0 0 0;\n",
              "      width: 32px;\n",
              "    }\n",
              "\n",
              "    .colab-df-convert:hover {\n",
              "      background-color: #E2EBFA;\n",
              "      box-shadow: 0px 1px 2px rgba(60, 64, 67, 0.3), 0px 1px 3px 1px rgba(60, 64, 67, 0.15);\n",
              "      fill: #174EA6;\n",
              "    }\n",
              "\n",
              "    .colab-df-buttons div {\n",
              "      margin-bottom: 4px;\n",
              "    }\n",
              "\n",
              "    [theme=dark] .colab-df-convert {\n",
              "      background-color: #3B4455;\n",
              "      fill: #D2E3FC;\n",
              "    }\n",
              "\n",
              "    [theme=dark] .colab-df-convert:hover {\n",
              "      background-color: #434B5C;\n",
              "      box-shadow: 0px 1px 3px 1px rgba(0, 0, 0, 0.15);\n",
              "      filter: drop-shadow(0px 1px 2px rgba(0, 0, 0, 0.3));\n",
              "      fill: #FFFFFF;\n",
              "    }\n",
              "  </style>\n",
              "\n",
              "    <script>\n",
              "      const buttonEl =\n",
              "        document.querySelector('#df-11b27573-2227-4a58-bf56-b62f5d3bae42 button.colab-df-convert');\n",
              "      buttonEl.style.display =\n",
              "        google.colab.kernel.accessAllowed ? 'block' : 'none';\n",
              "\n",
              "      async function convertToInteractive(key) {\n",
              "        const element = document.querySelector('#df-11b27573-2227-4a58-bf56-b62f5d3bae42');\n",
              "        const dataTable =\n",
              "          await google.colab.kernel.invokeFunction('convertToInteractive',\n",
              "                                                    [key], {});\n",
              "        if (!dataTable) return;\n",
              "\n",
              "        const docLinkHtml = 'Like what you see? Visit the ' +\n",
              "          '<a target=\"_blank\" href=https://colab.research.google.com/notebooks/data_table.ipynb>data table notebook</a>'\n",
              "          + ' to learn more about interactive tables.';\n",
              "        element.innerHTML = '';\n",
              "        dataTable['output_type'] = 'display_data';\n",
              "        await google.colab.output.renderOutput(dataTable, element);\n",
              "        const docLink = document.createElement('div');\n",
              "        docLink.innerHTML = docLinkHtml;\n",
              "        element.appendChild(docLink);\n",
              "      }\n",
              "    </script>\n",
              "  </div>\n",
              "\n",
              "    </div>\n",
              "  </div>\n"
            ]
          },
          "metadata": {},
          "execution_count": 64
        }
      ]
    },
    {
      "cell_type": "markdown",
      "source": [
        "##### step2: plot"
      ],
      "metadata": {
        "id": "aSJXMHvzIh_n"
      }
    },
    {
      "cell_type": "code",
      "source": [
        "# import packages\n",
        "import matplotlib.pyplot as plt\n",
        "import seaborn as sns"
      ],
      "metadata": {
        "id": "_z5alsJ9Il48"
      },
      "execution_count": 67,
      "outputs": []
    },
    {
      "cell_type": "code",
      "source": [
        "# create a readable x axis name\n",
        "months = ['JAN', 'FEB', 'MAR', 'APR', 'MAY', 'JUN', 'JUL', 'AUG', 'SEP', 'OCT', 'NOV', 'DEC']\n",
        "# get the temperatures\n",
        "temperatures_germany = [table_germany[f'TMP_MEAN_{month}'].values[0] for month in months]\n",
        "temperatures_china = [table_china[f'TMP_MEAN_{month}'].values[0] for month in months]\n",
        "# Set Seaborn style\n",
        "sns.set(style=\"darkgrid\")\n",
        "\n",
        "# create a line plot\n",
        "plt.figure(figsize=(10, 6))\n",
        "# create lines for each country\n",
        "sns.lineplot(x=months, y=temperatures_germany, marker='o', color='b',label='Germany')\n",
        "sns.lineplot(x=months, y=temperatures_china, marker='o', color='r',label='China')\n",
        "# set title and axis lable\n",
        "plt.title(f'Monthly Temperature Data for China and Germany in 2020')\n",
        "plt.xlabel('Month')\n",
        "plt.ylabel('Temperature (°C)')\n",
        "# display the plot\n",
        "plt.show()"
      ],
      "metadata": {
        "id": "Rdin__EEI5kd",
        "outputId": "b896b097-24c5-46a5-bf0e-eb2c9cbbec10",
        "colab": {
          "base_uri": "https://localhost:8080/",
          "height": 573
        }
      },
      "execution_count": 80,
      "outputs": [
        {
          "output_type": "display_data",
          "data": {
            "text/plain": [
              "<Figure size 1000x600 with 1 Axes>"
            ],
            "image/png": "[encoded data removed]"
          },
          "metadata": {}
        }
      ]
    },
    {
      "cell_type": "markdown",
      "source": [
        "##### description\n",
        "We can see from the plot that overall, in China the winter is colder and summer is hoter than in Germany. From March to October, the gaps between their temperature are all less than 5°C, which is quite similar. Both of their summer temperatures are below 25°C, which is comfortable."
      ],
      "metadata": {
        "id": "4MIZfsFYNKOn"
      }
    }
  ],
  "metadata": {
    "kernelspec": {
      "display_name": "Python 3 (ipykernel)",
      "language": "python",
      "name": "python3"
    },
    "language_info": {
      "codemirror_mode": {
        "name": "ipython",
        "version": 3
      },
      "file_extension": ".py",
      "mimetype": "text/x-python",
      "name": "python",
      "nbconvert_exporter": "python",
      "pygments_lexer": "ipython3",
      "version": "3.10.11"
    },
    "vscode": {
      "interpreter": {
        "hash": "916dbcbb3f70747c44a77c7bcd40155683ae19c65e1c03b4aa3499c5328201f1"
      }
    },
    "colab": {
      "provenance": [],
      "toc_visible": true,
      "include_colab_link": true
    }
  },
  "nbformat": 4,
  "nbformat_minor": 0
}